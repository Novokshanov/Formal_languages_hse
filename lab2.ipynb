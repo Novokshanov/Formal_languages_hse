{
 "cells": [
  {
   "cell_type": "code",
   "execution_count": 26,
   "metadata": {},
   "outputs": [],
   "source": [
    "#import nltk\n",
    "#from nltk.grammar import CFG, Production\n",
    "from nltk import CFG, Production, Nonterminal\n",
    "from hazm import word_tokenize\n",
    "from hazm import POSTagger\n",
    "from nltk import ChartParser\n",
    "from nltk.tree import Tree\n",
    "import matplotlib.pyplot as plt\n",
    "from langdetect import detect"
   ]
  },
  {
   "cell_type": "code",
   "execution_count": 27,
   "metadata": {},
   "outputs": [
    {
     "ename": "FileNotFoundError",
     "evalue": "[Errno 2] No such file or directory: 'pos_tagger.model'",
     "output_type": "error",
     "traceback": [
      "\u001b[1;31m---------------------------------------------------------------------------\u001b[0m",
      "\u001b[1;31mFileNotFoundError\u001b[0m                         Traceback (most recent call last)",
      "Cell \u001b[1;32mIn[27], line 1\u001b[0m\n\u001b[1;32m----> 1\u001b[0m tagger \u001b[38;5;241m=\u001b[39m \u001b[43mPOSTagger\u001b[49m\u001b[43m(\u001b[49m\u001b[43mmodel\u001b[49m\u001b[38;5;241;43m=\u001b[39;49m\u001b[38;5;124;43m'\u001b[39;49m\u001b[38;5;124;43mpos_tagger.model\u001b[39;49m\u001b[38;5;124;43m'\u001b[39;49m\u001b[43m)\u001b[49m\n",
      "File \u001b[1;32mc:\\Users\\Dmitry\\AppData\\Local\\Programs\\Python\\Python311\\Lib\\site-packages\\hazm\\pos_tagger.py:40\u001b[0m, in \u001b[0;36mPOSTagger.__init__\u001b[1;34m(self, model, data_maker, universal_tag)\u001b[0m\n\u001b[0;32m     38\u001b[0m data_maker \u001b[38;5;241m=\u001b[39m \u001b[38;5;28mself\u001b[39m\u001b[38;5;241m.\u001b[39mdata_maker \u001b[38;5;28;01mif\u001b[39;00m data_maker \u001b[38;5;129;01mis\u001b[39;00m \u001b[38;5;28;01mNone\u001b[39;00m \u001b[38;5;28;01melse\u001b[39;00m data_maker\n\u001b[0;32m     39\u001b[0m \u001b[38;5;28mself\u001b[39m\u001b[38;5;241m.\u001b[39m__is_universal \u001b[38;5;241m=\u001b[39m universal_tag\n\u001b[1;32m---> 40\u001b[0m \u001b[38;5;28;43msuper\u001b[39;49m\u001b[43m(\u001b[49m\u001b[43m)\u001b[49m\u001b[38;5;241;43m.\u001b[39;49m\u001b[38;5;21;43m__init__\u001b[39;49m\u001b[43m(\u001b[49m\u001b[43mmodel\u001b[49m\u001b[43m,\u001b[49m\u001b[43m \u001b[49m\u001b[43mdata_maker\u001b[49m\u001b[43m)\u001b[49m\n",
      "File \u001b[1;32mc:\\Users\\Dmitry\\AppData\\Local\\Programs\\Python\\Python311\\Lib\\site-packages\\hazm\\sequence_tagger.py:67\u001b[0m, in \u001b[0;36mSequenceTagger.__init__\u001b[1;34m(self, model, data_maker)\u001b[0m\n\u001b[0;32m     65\u001b[0m \u001b[38;5;28;01mdef\u001b[39;00m \u001b[38;5;21m__init__\u001b[39m(\u001b[38;5;28mself\u001b[39m: \u001b[38;5;124m\"\u001b[39m\u001b[38;5;124mSequenceTagger\u001b[39m\u001b[38;5;124m\"\u001b[39m, model\u001b[38;5;241m=\u001b[39m\u001b[38;5;28;01mNone\u001b[39;00m, data_maker\u001b[38;5;241m=\u001b[39mdata_maker) \u001b[38;5;241m-\u001b[39m\u001b[38;5;241m>\u001b[39m \u001b[38;5;28;01mNone\u001b[39;00m:\n\u001b[0;32m     66\u001b[0m     \u001b[38;5;28;01mif\u001b[39;00m model \u001b[38;5;129;01mis\u001b[39;00m \u001b[38;5;129;01mnot\u001b[39;00m \u001b[38;5;28;01mNone\u001b[39;00m:\n\u001b[1;32m---> 67\u001b[0m         \u001b[38;5;28;43mself\u001b[39;49m\u001b[38;5;241;43m.\u001b[39;49m\u001b[43mload_model\u001b[49m\u001b[43m(\u001b[49m\u001b[43mmodel\u001b[49m\u001b[43m)\u001b[49m\n\u001b[0;32m     68\u001b[0m     \u001b[38;5;28;01melse\u001b[39;00m:\n\u001b[0;32m     69\u001b[0m         \u001b[38;5;28mself\u001b[39m\u001b[38;5;241m.\u001b[39mmodel \u001b[38;5;241m=\u001b[39m \u001b[38;5;28;01mNone\u001b[39;00m\n",
      "File \u001b[1;32mc:\\Users\\Dmitry\\AppData\\Local\\Programs\\Python\\Python311\\Lib\\site-packages\\hazm\\sequence_tagger.py:113\u001b[0m, in \u001b[0;36mSequenceTagger.load_model\u001b[1;34m(self, model)\u001b[0m\n\u001b[0;32m    102\u001b[0m \u001b[38;5;250m\u001b[39m\u001b[38;5;124;03m\"\"\"فایل تگر را بارگزاری می‌کند.\u001b[39;00m\n\u001b[0;32m    103\u001b[0m \n\u001b[0;32m    104\u001b[0m \u001b[38;5;124;03mExamples:\u001b[39;00m\n\u001b[1;32m   (...)\u001b[0m\n\u001b[0;32m    110\u001b[0m \n\u001b[0;32m    111\u001b[0m \u001b[38;5;124;03m\"\"\"\u001b[39;00m\n\u001b[0;32m    112\u001b[0m tagger \u001b[38;5;241m=\u001b[39m Tagger()\n\u001b[1;32m--> 113\u001b[0m \u001b[43mtagger\u001b[49m\u001b[38;5;241;43m.\u001b[39;49m\u001b[43mopen\u001b[49m\u001b[43m(\u001b[49m\u001b[43mmodel\u001b[49m\u001b[43m)\u001b[49m\n\u001b[0;32m    114\u001b[0m \u001b[38;5;28mself\u001b[39m\u001b[38;5;241m.\u001b[39mmodel \u001b[38;5;241m=\u001b[39m tagger\n",
      "File \u001b[1;32mpycrfsuite/_pycrfsuite.pyx:571\u001b[0m, in \u001b[0;36mpycrfsuite._pycrfsuite.Tagger.open\u001b[1;34m()\u001b[0m\n",
      "File \u001b[1;32mpycrfsuite/_pycrfsuite.pyx:733\u001b[0m, in \u001b[0;36mpycrfsuite._pycrfsuite.Tagger._check_model\u001b[1;34m()\u001b[0m\n",
      "\u001b[1;31mFileNotFoundError\u001b[0m: [Errno 2] No such file or directory: 'pos_tagger.model'"
     ]
    }
   ],
   "source": [
    "tagger = POSTagger(model='pos_tagger.model')"
   ]
  },
  {
   "cell_type": "code",
   "execution_count": 57,
   "metadata": {},
   "outputs": [],
   "source": [
    "# sentence = \"من امروز مشغول این کار هستم و فردا دوباره باید در آن منطقه بیدار شوم\"\n",
    "# sentence = \"من امروز مشغول این کار هستم\"\n",
    "# sentence = 'کار خوب است'\n",
    "# sentence = 'آن کیف جدید تو را میبرم'\n",
    "sentence = 'من و تو و احمد به خانه دوست او رفتیم برای آنکه یک چایی بخوریم'\n",
    "# sentence = 'این آمار نشان میدهد که ۸۲ تا ۸۳ درصد مردم به «فارسی» سخن میگویند.'"
   ]
  },
  {
   "cell_type": "code",
   "execution_count": 58,
   "metadata": {},
   "outputs": [],
   "source": [
    "def parse_sentence(sentence):\n",
    "    try:\n",
    "        # Проверяем язык текста\n",
    "        lang = detect(sentence)\n",
    "        if lang != 'fa':\n",
    "            return \"Пожалуйста, введите предложение на персидском языке.\"\n",
    "        \n",
    "        tagged_s = tagger.tag(word_tokenize(sentence))\n",
    "        \n",
    "        return tagged_s\n",
    "    except:\n",
    "        return \"Не удалось распознать язык предложения.\"\n",
    "\n",
    "tagged_s = parse_sentence(sentence)"
   ]
  },
  {
   "cell_type": "code",
   "execution_count": null,
   "metadata": {},
   "outputs": [
    {
     "data": {
      "text/plain": [
       "[('این', 'DET'),\n",
       " ('آمار', 'NOUN'),\n",
       " ('نشان', 'NOUN'),\n",
       " ('میدهد', 'VERB'),\n",
       " ('که', 'SCONJ'),\n",
       " ('۸۲', 'NUM'),\n",
       " ('تا', 'ADP'),\n",
       " ('۸۳', 'NUM'),\n",
       " ('درصد', 'NOUN,EZ'),\n",
       " ('مردم', 'NOUN'),\n",
       " ('به', 'ADP'),\n",
       " ('«', 'PUNCT'),\n",
       " ('فارسی', 'NOUN'),\n",
       " ('»', 'PUNCT'),\n",
       " ('سخن', 'NOUN'),\n",
       " ('میگویند', 'VERB'),\n",
       " ('.', 'PUNCT')]"
      ]
     },
     "execution_count": 15,
     "metadata": {},
     "output_type": "execute_result"
    }
   ],
   "source": [
    "tagged_s = tagger.tag(word_tokenize(sentence))\n",
    "tagged_s"
   ]
  },
  {
   "cell_type": "code",
   "execution_count": 60,
   "metadata": {},
   "outputs": [],
   "source": [
    "base_grammar = CFG.fromstring(\"\"\"\n",
    "    FulS -> S PUNCT | S\n",
    "    S -> NP VP | VP | VP CP | VP SConjP\n",
    "    SConjP -> SCONJ VP\n",
    "    CP -> CONJ NP | CONJ VP\n",
    "    CompV -> N V | ADJ V\n",
    "    NP_ez -> N_ez NP | N_ez AdjP | N_ez NP_ez | NP_ez PRO\n",
    "    ProP -> PRO NP | PRO NP_ez\n",
    "    NP -> N | N_ez | N NP | N AdjP | NP CONJ NP | N AdjP | NP N | NP PRO | PRO NP | NUM NP | ProP CONJ NP | NP CONJ ProP | PUNCT N PUNCT | PUNCT NP PUNCT\n",
    "    VP -> NP V | AdjP V | ADV VP | N VP | PP V | PP VP | PostP V | ProP VP | V | V VP | DetP VP\n",
    "    ProP -> PRO | PRO CONJ PRO\n",
    "    DemP -> DEM NP\n",
    "    AdjP -> ADJ | ADJ_ez | ADJ_ez AdjP | ADJ_ez DetP | ADJ_ez NP | ADJ_ez ProP\n",
    "    DetP -> DET NP | DetP ADJ\n",
    "    PP -> P NP | P NP_ez | P DetP | P CONJ | PP VP | NUM PP | P NUM\n",
    "    PostP -> NP P | ProP P\n",
    "\"\"\")"
   ]
  },
  {
   "cell_type": "code",
   "execution_count": 61,
   "metadata": {},
   "outputs": [],
   "source": [
    "def update_grammar_with_pos_tags(base_grammar, tagged_s):\n",
    "    # Собираем множества слов для каждой части речи\n",
    "    nouns = set()\n",
    "    nouns_ez = set()\n",
    "    pronouns = set()\n",
    "    verbs = set()\n",
    "    adjectives = set()\n",
    "    adjectives_ez = set()\n",
    "    adverbs = set()\n",
    "    demonstratives = set()\n",
    "    determinatives = set()\n",
    "    prepositions = set()\n",
    "    conjunctions = set()\n",
    "    sconjunctions = set()\n",
    "    punctuation = set()\n",
    "    numer = set()\n",
    "    for word, tag in tagged_s:\n",
    "        if tag == 'NOUN':\n",
    "            nouns.add(word)\n",
    "        elif tag == 'NOUN,EZ':\n",
    "            nouns_ez.add(word)\n",
    "        elif tag.startswith('V'):\n",
    "            verbs.add(word)\n",
    "        elif tag == 'ADJ':\n",
    "            adjectives.add(word)\n",
    "        elif tag == 'ADJ,EZ':\n",
    "            adjectives_ez.add(word)\n",
    "        elif tag == 'DEM':\n",
    "            demonstratives.add(word)\n",
    "        elif tag == 'DET':\n",
    "            determinatives.add(word)\n",
    "        elif tag == 'ADP' or tag == 'ADP,EZ':\n",
    "            prepositions.add(word)\n",
    "        elif tag == 'CCONJ':\n",
    "            conjunctions.add(word)\n",
    "        elif tag == 'SCONJ':\n",
    "            sconjunctions.add(word)\n",
    "        elif tag == 'PRON':\n",
    "            pronouns.add(word)\n",
    "        elif tag == 'NUM':\n",
    "            numer.add(word)\n",
    "        elif tag == 'ADV':\n",
    "            adverbs.add(word)\n",
    "        elif tag == 'PUNCT':\n",
    "            punctuation.add(word)\n",
    "\n",
    "    \n",
    "    # Создаем список правил для обновления грамматики\n",
    "    new_productions = []\n",
    "    for noun in nouns:\n",
    "        new_productions.append(Production('N', [noun]))\n",
    "    for noun_ez in nouns_ez:\n",
    "        new_productions.append(Production('N_ez', [noun_ez]))\n",
    "    for pronoun in pronouns:\n",
    "        new_productions.append(Production('PRO', [pronoun]))\n",
    "    for verb in verbs:\n",
    "        new_productions.append(Production('V', [verb]))\n",
    "    for adj in adjectives:\n",
    "        new_productions.append(Production('ADJ', [adj]))\n",
    "    for adj_ez in adjectives_ez:\n",
    "        new_productions.append(Production('ADJ_ez', [adj_ez]))\n",
    "    for num in numer:\n",
    "        new_productions.append(Production('NUM', [num]))\n",
    "    for adv in adverbs:\n",
    "        new_productions.append(Production('ADV', [adv]))\n",
    "    for conj in conjunctions:\n",
    "        new_productions.append(Production('CONJ', [conj]))\n",
    "    for sconj in sconjunctions:\n",
    "        new_productions.append(Production('SCONJ', [sconj]))\n",
    "    for dem in demonstratives:\n",
    "        new_productions.append(Production('DEM', [dem]))\n",
    "    for det in determinatives:\n",
    "        new_productions.append(Production('DET', [det]))\n",
    "    for prep in prepositions:\n",
    "        new_productions.append(Production('P', [prep]))\n",
    "    for punct in punctuation:\n",
    "        new_productions.append(Production('PUNCT', [punct]))\n",
    "    \n",
    "    # Создаем новый объект CFG с объединенными правилами\n",
    "    updated_grammar = CFG(base_grammar.start(), base_grammar.productions() + new_productions)\n",
    "    \n",
    "    return updated_grammar\n",
    "\n",
    "# Обновляем грамматику с учетом предложения и его частей речи\n",
    "grammar = update_grammar_with_pos_tags(base_grammar, tagged_s)\n",
    "\n",
    "# Теперь мы можем использовать эту грамматику для синтаксического анализа предложений на персидском языке.\n"
   ]
  },
  {
   "cell_type": "code",
   "execution_count": 62,
   "metadata": {},
   "outputs": [
    {
     "name": "stdout",
     "output_type": "stream",
     "text": [
      "Grammar with 65 productions (start state = FulS)\n",
      "    FulS -> S PUNCT\n",
      "    FulS -> S\n",
      "    S -> NP VP\n",
      "    S -> VP\n",
      "    S -> VP CP\n",
      "    S -> VP SConjP\n",
      "    SConjP -> SCONJ VP\n",
      "    CP -> CONJ NP\n",
      "    CP -> CONJ VP\n",
      "    CompV -> N V\n",
      "    CompV -> ADJ V\n",
      "    NP_ez -> N_ez NP\n",
      "    NP_ez -> N_ez AdjP\n",
      "    NP_ez -> N_ez NP_ez\n",
      "    NP_ez -> NP_ez PRO\n",
      "    ProP -> PRO NP\n",
      "    ProP -> PRO NP_ez\n",
      "    NP -> N\n",
      "    NP -> N_ez\n",
      "    NP -> N NP\n",
      "    NP -> N AdjP\n",
      "    NP -> NP CONJ NP\n",
      "    NP -> N AdjP\n",
      "    NP -> NP N\n",
      "    NP -> NP PRO\n",
      "    NP -> PRO NP\n",
      "    NP -> NUM NP\n",
      "    NP -> ProP CONJ NP\n",
      "    NP -> NP CONJ ProP\n",
      "    NP -> PUNCT N PUNCT\n",
      "    NP -> PUNCT NP PUNCT\n",
      "    VP -> NP V\n",
      "    VP -> AdjP V\n",
      "    VP -> ADV VP\n",
      "    VP -> N VP\n",
      "    VP -> PP V\n",
      "    VP -> PP VP\n",
      "    VP -> PostP V\n",
      "    VP -> ProP VP\n",
      "    VP -> V\n",
      "    VP -> V VP\n",
      "    VP -> DetP VP\n",
      "    ProP -> PRO\n",
      "    ProP -> PRO CONJ PRO\n",
      "    DemP -> DEM NP\n",
      "    AdjP -> ADJ\n",
      "    AdjP -> ADJ_ez\n",
      "    AdjP -> ADJ_ez AdjP\n",
      "    AdjP -> ADJ_ez DetP\n",
      "    AdjP -> ADJ_ez NP\n",
      "    AdjP -> ADJ_ez ProP\n",
      "    DetP -> DET NP\n",
      "    DetP -> DetP ADJ\n",
      "    PP -> P NP\n",
      "    PP -> P NP_ez\n",
      "    PP -> P DetP\n",
      "    PP -> P CONJ\n",
      "    PP -> PP VP\n",
      "    PP -> NUM PP\n",
      "    PP -> P NUM\n",
      "    PostP -> NP P\n",
      "    PostP -> ProP P\n",
      "    'N_ez' -> 'کار'\n",
      "    'V' -> 'است'\n",
      "    'ADJ' -> 'خوب'\n"
     ]
    }
   ],
   "source": [
    "print(grammar)"
   ]
  },
  {
   "cell_type": "code",
   "execution_count": 63,
   "metadata": {},
   "outputs": [
    {
     "name": "stdout",
     "output_type": "stream",
     "text": [
      "{'N_ez': ['کار'], 'V': ['است'], 'ADJ': ['خوب']}\n"
     ]
    }
   ],
   "source": [
    "words_and_phrases = {}\n",
    "\n",
    "for production in grammar.productions():\n",
    "    nonterminal = production.lhs()  # Левая сторона продукции\n",
    "    if isinstance(production.rhs()[0], str):  # Проверяем, что первый символ является строкой (терминалом)\n",
    "        if nonterminal not in words_and_phrases:\n",
    "            words_and_phrases[nonterminal] = []  # Создаем список для данного нетерминала\n",
    "        words_and_phrases[nonterminal].append(production.rhs()[0])\n",
    "\n",
    "print(words_and_phrases)\n"
   ]
  },
  {
   "cell_type": "code",
   "execution_count": 64,
   "metadata": {},
   "outputs": [
    {
     "name": "stdout",
     "output_type": "stream",
     "text": [
      "Grammar with 65 productions (start state = FulS)\n",
      "    FulS -> S PUNCT\n",
      "    FulS -> S\n",
      "    S -> NP VP\n",
      "    S -> VP\n",
      "    S -> VP CP\n",
      "    S -> VP SConjP\n",
      "    SConjP -> SCONJ VP\n",
      "    CP -> CONJ NP\n",
      "    CP -> CONJ VP\n",
      "    CompV -> N V\n",
      "    CompV -> ADJ V\n",
      "    NP_ez -> N_ez NP\n",
      "    NP_ez -> N_ez AdjP\n",
      "    NP_ez -> N_ez NP_ez\n",
      "    NP_ez -> NP_ez PRO\n",
      "    ProP -> PRO NP\n",
      "    ProP -> PRO NP_ez\n",
      "    NP -> N\n",
      "    NP -> N_ez\n",
      "    NP -> N NP\n",
      "    NP -> N AdjP\n",
      "    NP -> NP CONJ NP\n",
      "    NP -> N AdjP\n",
      "    NP -> NP N\n",
      "    NP -> NP PRO\n",
      "    NP -> PRO NP\n",
      "    NP -> NUM NP\n",
      "    NP -> ProP CONJ NP\n",
      "    NP -> NP CONJ ProP\n",
      "    NP -> PUNCT N PUNCT\n",
      "    NP -> PUNCT NP PUNCT\n",
      "    VP -> NP V\n",
      "    VP -> AdjP V\n",
      "    VP -> ADV VP\n",
      "    VP -> N VP\n",
      "    VP -> PP V\n",
      "    VP -> PP VP\n",
      "    VP -> PostP V\n",
      "    VP -> ProP VP\n",
      "    VP -> V\n",
      "    VP -> V VP\n",
      "    VP -> DetP VP\n",
      "    ProP -> PRO\n",
      "    ProP -> PRO CONJ PRO\n",
      "    DemP -> DEM NP\n",
      "    AdjP -> ADJ\n",
      "    AdjP -> ADJ_ez\n",
      "    AdjP -> ADJ_ez AdjP\n",
      "    AdjP -> ADJ_ez DetP\n",
      "    AdjP -> ADJ_ez NP\n",
      "    AdjP -> ADJ_ez ProP\n",
      "    DetP -> DET NP\n",
      "    DetP -> DetP ADJ\n",
      "    PP -> P NP\n",
      "    PP -> P NP_ez\n",
      "    PP -> P DetP\n",
      "    PP -> P CONJ\n",
      "    PP -> PP VP\n",
      "    PP -> NUM PP\n",
      "    PP -> P NUM\n",
      "    PostP -> NP P\n",
      "    PostP -> ProP P\n",
      "    N_ez -> 'کار'\n",
      "    V -> 'است'\n",
      "    ADJ -> 'خوب'\n"
     ]
    }
   ],
   "source": [
    "# Обновляем грамматику с учетом слов и фраз\n",
    "productions = list(base_grammar.productions())\n",
    "for nonterminal, words_list in words_and_phrases.items():\n",
    "    for word in words_list:\n",
    "        productions.append(Production(Nonterminal(nonterminal), [word]))\n",
    "\n",
    "updated_grammar = CFG(base_grammar.start(), productions)\n",
    "\n",
    "print(updated_grammar)\n"
   ]
  },
  {
   "cell_type": "code",
   "execution_count": 65,
   "metadata": {},
   "outputs": [
    {
     "data": {
      "image/png": "[encoded data removed]",
      "text/plain": [
       "<Figure size 1200x600 with 1 Axes>"
      ]
     },
     "metadata": {},
     "output_type": "display_data"
    }
   ],
   "source": [
    "parser = ChartParser(updated_grammar)\n",
    "for tree in parser.parse(word_tokenize(sentence)):\n",
    "    fig, ax = plt.subplots(figsize=(12, 6))\n",
    "    tree.draw()\n",
    "    plt.show()\n",
    "    break\n"
   ]
  },
  {
   "cell_type": "code",
   "execution_count": 43,
   "metadata": {},
   "outputs": [],
   "source": [
    "from lab2_lab3 import get_the_tree"
   ]
  },
  {
   "cell_type": "code",
   "execution_count": 44,
   "metadata": {},
   "outputs": [],
   "source": [
    "get_the_tree(sentence)"
   ]
  }
 ],
 "metadata": {
  "kernelspec": {
   "display_name": "Python 3",
   "language": "python",
   "name": "python3"
  },
  "language_info": {
   "codemirror_mode": {
    "name": "ipython",
    "version": 3
   },
   "file_extension": ".py",
   "mimetype": "text/x-python",
   "name": "python",
   "nbconvert_exporter": "python",
   "pygments_lexer": "ipython3",
   "version": "3.11.5"
  }
 },
 "nbformat": 4,
 "nbformat_minor": 2
}
