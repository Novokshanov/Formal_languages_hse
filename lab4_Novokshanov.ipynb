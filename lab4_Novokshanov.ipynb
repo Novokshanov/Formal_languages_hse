{
  "cells": [
    {
      "cell_type": "code",
      "execution_count": null,
      "metadata": {
        "id": "juKNlIvN5Voe"
      },
      "outputs": [],
      "source": [
        "!pip install datasets fasttext"
      ]
    },
    {
      "cell_type": "markdown",
      "metadata": {},
      "source": [
        "Ссылка на эту тетрадку в колабе: https://colab.research.google.com/drive/1lKM5pi_6-VIp7CENURLst5Gd4yNUcxUn?usp=sharing"
      ]
    },
    {
      "cell_type": "code",
      "execution_count": 3,
      "metadata": {
        "id": "vFT7rkwA5TcP"
      },
      "outputs": [],
      "source": [
        "from datasets import load_dataset\n",
        "import pandas as pd\n",
        "from sklearn.metrics import classification_report\n",
        "from collections import Counter\n",
        "import numpy as np\n"
      ]
    },
    {
      "cell_type": "code",
      "execution_count": 4,
      "metadata": {
        "colab": {
          "base_uri": "https://localhost:8080/"
        },
        "id": "3Ru1j4-D5rf_",
        "outputId": "a2c09448-ecaa-4ddd-e56d-7940c8932376"
      },
      "outputs": [
        {
          "name": "stderr",
          "output_type": "stream",
          "text": [
            "/usr/local/lib/python3.10/dist-packages/huggingface_hub/utils/_token.py:88: UserWarning: \n",
            "The secret `HF_TOKEN` does not exist in your Colab secrets.\n",
            "To authenticate with the Hugging Face Hub, create a token in your settings tab (https://huggingface.co/settings/tokens), set it as secret in your Google Colab and restart your session.\n",
            "You will be able to reuse this secret in all of your notebooks.\n",
            "Please note that authentication is recommended but still optional to access public models or datasets.\n",
            "  warnings.warn(\n"
          ]
        }
      ],
      "source": [
        "dataset = load_dataset(\"xtreme\", \"udpos.English\")"
      ]
    },
    {
      "cell_type": "code",
      "execution_count": 64,
      "metadata": {
        "colab": {
          "base_uri": "https://localhost:8080/"
        },
        "id": "saGYIRJe9Bww",
        "outputId": "94f601a2-5f67-4b21-c761-c1f3973552a6"
      },
      "outputs": [
        {
          "data": {
            "text/plain": [
              "DatasetDict({\n",
              "    train: Dataset({\n",
              "        features: ['tokens', 'pos_tags'],\n",
              "        num_rows: 21253\n",
              "    })\n",
              "    validation: Dataset({\n",
              "        features: ['tokens', 'pos_tags'],\n",
              "        num_rows: 3974\n",
              "    })\n",
              "    test: Dataset({\n",
              "        features: ['tokens', 'pos_tags'],\n",
              "        num_rows: 5440\n",
              "    })\n",
              "})"
            ]
          },
          "execution_count": 64,
          "metadata": {},
          "output_type": "execute_result"
        }
      ],
      "source": [
        "dataset"
      ]
    },
    {
      "cell_type": "code",
      "execution_count": 5,
      "metadata": {
        "colab": {
          "base_uri": "https://localhost:8080/"
        },
        "id": "d72HQdkK9Ku7",
        "outputId": "7c5cdfbc-7f7a-4e11-e5f5-d63e10799826"
      },
      "outputs": [
        {
          "data": {
            "text/plain": [
              "ClassLabel(names=['ADJ', 'ADP', 'ADV', 'AUX', 'CCONJ', 'DET', 'INTJ', 'NOUN', 'NUM', 'PART', 'PRON', 'PROPN', 'PUNCT', 'SCONJ', 'SYM', 'VERB', 'X'], id=None)"
            ]
          },
          "execution_count": 5,
          "metadata": {},
          "output_type": "execute_result"
        }
      ],
      "source": [
        "tags = dataset['train'].features['pos_tags'].feature\n",
        "tags"
      ]
    },
    {
      "cell_type": "code",
      "execution_count": 6,
      "metadata": {
        "id": "N7sHYMnB9N-n"
      },
      "outputs": [],
      "source": [
        "label2id = {'ADJ':0, 'ADP': 1, 'ADV': 2, 'AUX': 3, 'CCONJ': 4, 'DET': 5, 'INTJ': 6, 'NOUN': 7, 'NUM': 8, 'PART': 9, 'PRON': 10, 'PROPN': 11, 'PUNCT': 12, 'SCONJ': 13, 'SYM': 14, 'VERB': 15, 'X': 16}\n",
        "id2label = {0: 'ADJ', 1: 'ADP', 2: 'ADV', 3: 'AUX', 4: 'CCONJ', 5: 'DET', 6: 'INTJ', 7: 'NOUN', 8: 'NUM', 9: 'PART', 10: 'PRON', 11: 'PROPN', 12: 'PUNCT', 13: 'SCONJ', 14: 'SYM', 15: 'VERB', 16: 'X'}\n"
      ]
    },
    {
      "cell_type": "code",
      "execution_count": 67,
      "metadata": {
        "colab": {
          "base_uri": "https://localhost:8080/"
        },
        "id": "-iyyY8mD-EiS",
        "outputId": "54ad2eb2-307f-46fc-93bc-35f25a8d0c83"
      },
      "outputs": [
        {
          "data": {
            "text/plain": [
              "{'ADJ': 0,\n",
              " 'ADP': 1,\n",
              " 'ADV': 2,\n",
              " 'AUX': 3,\n",
              " 'CCONJ': 4,\n",
              " 'DET': 5,\n",
              " 'INTJ': 6,\n",
              " 'NOUN': 7,\n",
              " 'NUM': 8,\n",
              " 'PART': 9,\n",
              " 'PRON': 10,\n",
              " 'PROPN': 11,\n",
              " 'PUNCT': 12,\n",
              " 'SCONJ': 13,\n",
              " 'SYM': 14,\n",
              " 'VERB': 15,\n",
              " 'X': 16}"
            ]
          },
          "execution_count": 67,
          "metadata": {},
          "output_type": "execute_result"
        }
      ],
      "source": [
        "label2id"
      ]
    },
    {
      "cell_type": "markdown",
      "metadata": {
        "id": "4m7ZC7cloF5P"
      },
      "source": [
        "-----------------"
      ]
    },
    {
      "cell_type": "code",
      "execution_count": 7,
      "metadata": {
        "id": "s3swF4SXoTva"
      },
      "outputs": [],
      "source": [
        "# словарь\n",
        "vocab = Counter()\n",
        "\n",
        "for sent in dataset['train']['tokens']:\n",
        "    vocab.update([x for x in sent])"
      ]
    },
    {
      "cell_type": "markdown",
      "metadata": {
        "id": "7H5SF5fnMBBC"
      },
      "source": [
        "Будем использовать предобученные эмбеддинги"
      ]
    },
    {
      "cell_type": "code",
      "execution_count": 8,
      "metadata": {
        "colab": {
          "base_uri": "https://localhost:8080/"
        },
        "id": "hETk9og4oT0P",
        "outputId": "e909b9c8-e608-489c-9cb1-048128768cfd"
      },
      "outputs": [
        {
          "name": "stderr",
          "output_type": "stream",
          "text": [
            "Warning : `load_model` does not return WordVectorModel or SupervisedModel any more, but a `FastText` object which is very similar.\n"
          ]
        }
      ],
      "source": [
        "from huggingface_hub import hf_hub_download\n",
        "import fasttext\n",
        "\n",
        "model_fasttext = fasttext.load_model(hf_hub_download(\"facebook/fasttext-en-vectors\", \"model.bin\"))"
      ]
    },
    {
      "cell_type": "code",
      "execution_count": 9,
      "metadata": {
        "id": "cMKoEYSNoT3E"
      },
      "outputs": [],
      "source": [
        "# индексируем слова\n",
        "word2id = {'PAD':0, 'UNK':1}\n",
        "\n",
        "for word in vocab:\n",
        "    word2id[word] = len(word2id)"
      ]
    },
    {
      "cell_type": "code",
      "execution_count": 10,
      "metadata": {
        "id": "0_g0eQwCoT5r"
      },
      "outputs": [],
      "source": [
        "id2word = {i:word for word, i in word2id.items()}"
      ]
    },
    {
      "cell_type": "code",
      "execution_count": 11,
      "metadata": {
        "id": "kizb941boT8L"
      },
      "outputs": [],
      "source": [
        "# переводим тексты в последовательности индексов\n",
        "X = []\n",
        "\n",
        "for sent in dataset['train']['tokens']:\n",
        "    tokens = [w for w in sent]\n",
        "    ids = [word2id.get(token, 1) for token in tokens]\n",
        "    X.append(ids)"
      ]
    },
    {
      "cell_type": "code",
      "execution_count": 12,
      "metadata": {
        "id": "S7H0hMP3oT-x"
      },
      "outputs": [],
      "source": [
        "X_valid = []\n",
        "\n",
        "for sent in dataset['validation']['tokens']:\n",
        "    tokens = [w for w in sent]\n",
        "    ids = [word2id.get(token, 1) for token in tokens]\n",
        "    X_valid.append(ids)"
      ]
    },
    {
      "cell_type": "code",
      "execution_count": 13,
      "metadata": {
        "id": "3fXoTuYjoUBK"
      },
      "outputs": [],
      "source": [
        "X_test = []\n",
        "\n",
        "for sent in dataset['test']['tokens']:\n",
        "    tokens = [w for w in sent]\n",
        "    ids = [word2id.get(token, 1) for token in tokens]\n",
        "    X_test.append(ids)"
      ]
    },
    {
      "cell_type": "code",
      "execution_count": 14,
      "metadata": {
        "id": "YkplrYM4s-Dk"
      },
      "outputs": [],
      "source": [
        "import os\n",
        "os.environ[\"KERAS_BACKEND\"] = \"torch\""
      ]
    },
    {
      "cell_type": "code",
      "execution_count": 15,
      "metadata": {
        "colab": {
          "base_uri": "https://localhost:8080/"
        },
        "id": "s92Y-g0bs2yN",
        "outputId": "68b8a44a-f966-477e-b98f-1edc2484ac7c"
      },
      "outputs": [
        {
          "name": "stdout",
          "output_type": "stream",
          "text": [
            "2.15.0\n"
          ]
        }
      ],
      "source": [
        "import keras\n",
        "print(keras.__version__)"
      ]
    },
    {
      "cell_type": "code",
      "execution_count": 16,
      "metadata": {
        "id": "P7ATMFpWqD_T"
      },
      "outputs": [],
      "source": [
        "MAX_LEN = max(len(x) for x in X)\n",
        "\n",
        "X = keras.preprocessing.sequence.pad_sequences(X, maxlen=MAX_LEN, padding='post')\n",
        "X_test = keras.preprocessing.sequence.pad_sequences(X_test, maxlen=MAX_LEN, padding='post')"
      ]
    },
    {
      "cell_type": "code",
      "execution_count": 17,
      "metadata": {
        "id": "BivRFodBqEB1"
      },
      "outputs": [],
      "source": [
        "y = keras.preprocessing.sequence.pad_sequences(dataset['train']['pos_tags'], value=16,\n",
        "                                                  maxlen=MAX_LEN,  padding='post')\n",
        "y_valid = keras.preprocessing.sequence.pad_sequences(dataset['validation']['pos_tags'], value=16,\n",
        "                                                       maxlen=MAX_LEN,  padding='post')\n",
        "y_test = keras.preprocessing.sequence.pad_sequences(dataset['test']['pos_tags'], value=16,\n",
        "                                                       maxlen=MAX_LEN,  padding='post')"
      ]
    },
    {
      "cell_type": "code",
      "execution_count": 18,
      "metadata": {
        "id": "4FYisUZNqEEm"
      },
      "outputs": [],
      "source": [
        "embedding_dim = model_fasttext.get_dimension()\n",
        "embedding_matrix = np.zeros((len(word2id), embedding_dim))"
      ]
    },
    {
      "cell_type": "code",
      "execution_count": 19,
      "metadata": {
        "colab": {
          "base_uri": "https://localhost:8080/"
        },
        "id": "BbCEFBjg5nN0",
        "outputId": "9d1b3587-c1ed-4517-e6d0-8387e313afdd"
      },
      "outputs": [
        {
          "data": {
            "text/plain": [
              "300"
            ]
          },
          "execution_count": 19,
          "metadata": {},
          "output_type": "execute_result"
        }
      ],
      "source": [
        "embedding_dim"
      ]
    },
    {
      "cell_type": "code",
      "execution_count": 20,
      "metadata": {
        "id": "oXJDxXy_r_O3"
      },
      "outputs": [],
      "source": [
        "for word, idx in word2id.items():\n",
        "    if word in model_fasttext:\n",
        "        embedding_matrix[idx] = model_fasttext.get_word_vector(word)\n",
        "    else:\n",
        "        embedding_matrix[idx] = np.zeros(embedding_dim)\n",
        "        pass"
      ]
    },
    {
      "cell_type": "code",
      "execution_count": 21,
      "metadata": {
        "id": "TfzQqhBQr_Ri"
      },
      "outputs": [],
      "source": [
        "inputs = keras.layers.Input(shape=(MAX_LEN,))\n",
        "embeddings = keras.layers.Embedding(input_dim=len(word2id), output_dim=300, trainable=False,\n",
        "                                       weights=[embedding_matrix])(inputs)\n",
        "\n",
        "bilstm1 = keras.layers.Bidirectional(keras.layers.LSTM(128, return_sequences=True))(embeddings)\n",
        "bilstm2 = keras.layers.Bidirectional(keras.layers.LSTM(128, return_sequences=True))(bilstm1)\n",
        "bilstm3 = keras.layers.Bidirectional(keras.layers.LSTM(128, return_sequences=True))(bilstm2)\n",
        "\n",
        "outputs = keras.layers.Dense(len(label2id), activation='softmax')(bilstm3)\n",
        "\n",
        "model = keras.Model(inputs=inputs, outputs=outputs)\n",
        "model.compile(optimizer='adam',\n",
        "              loss='sparse_categorical_crossentropy',\n",
        "             metrics=['accuracy'])\n"
      ]
    },
    {
      "cell_type": "code",
      "execution_count": 22,
      "metadata": {
        "colab": {
          "base_uri": "https://localhost:8080/"
        },
        "id": "3DCa7MITr_UT",
        "outputId": "cc1baa9f-82c9-4c67-aaab-00984ebdeb75"
      },
      "outputs": [
        {
          "name": "stdout",
          "output_type": "stream",
          "text": [
            "Model: \"model\"\n",
            "_________________________________________________________________\n",
            " Layer (type)                Output Shape              Param #   \n",
            "=================================================================\n",
            " input_1 (InputLayer)        [(None, 209)]             0         \n",
            "                                                                 \n",
            " embedding (Embedding)       (None, 209, 300)          8880900   \n",
            "                                                                 \n",
            " bidirectional (Bidirection  (None, 209, 256)          439296    \n",
            " al)                                                             \n",
            "                                                                 \n",
            " bidirectional_1 (Bidirecti  (None, 209, 256)          394240    \n",
            " onal)                                                           \n",
            "                                                                 \n",
            " bidirectional_2 (Bidirecti  (None, 209, 256)          394240    \n",
            " onal)                                                           \n",
            "                                                                 \n",
            " dense (Dense)               (None, 209, 17)           4369      \n",
            "                                                                 \n",
            "=================================================================\n",
            "Total params: 10113045 (38.58 MB)\n",
            "Trainable params: 1232145 (4.70 MB)\n",
            "Non-trainable params: 8880900 (33.88 MB)\n",
            "_________________________________________________________________\n"
          ]
        }
      ],
      "source": [
        "model.summary()"
      ]
    },
    {
      "cell_type": "code",
      "execution_count": 23,
      "metadata": {
        "colab": {
          "base_uri": "https://localhost:8080/"
        },
        "id": "9uK2bXbpr_XE",
        "outputId": "4e3b0516-8b9c-48f9-9c95-0f50234c5b76"
      },
      "outputs": [
        {
          "name": "stdout",
          "output_type": "stream",
          "text": [
            "Epoch 1/5\n",
            "167/167 [==============================] - 33s 131ms/step - loss: 0.2360 - accuracy: 0.9272 - val_loss: 0.1499 - val_accuracy: 0.9497\n",
            "Epoch 2/5\n",
            "167/167 [==============================] - 20s 118ms/step - loss: 0.1095 - accuracy: 0.9656 - val_loss: 0.0643 - val_accuracy: 0.9803\n",
            "Epoch 3/5\n",
            "167/167 [==============================] - 20s 122ms/step - loss: 0.0494 - accuracy: 0.9849 - val_loss: 0.0473 - val_accuracy: 0.9868\n",
            "Epoch 4/5\n",
            "167/167 [==============================] - 20s 123ms/step - loss: 0.0325 - accuracy: 0.9901 - val_loss: 0.0456 - val_accuracy: 0.9887\n",
            "Epoch 5/5\n",
            "167/167 [==============================] - 20s 122ms/step - loss: 0.0261 - accuracy: 0.9919 - val_loss: 0.0395 - val_accuracy: 0.9904\n"
          ]
        },
        {
          "data": {
            "text/plain": [
              "<keras.src.callbacks.History at 0x7a280063ef80>"
            ]
          },
          "execution_count": 23,
          "metadata": {},
          "output_type": "execute_result"
        }
      ],
      "source": [
        "model.fit(X, y,\n",
        "          validation_data=(X_test, y_test),\n",
        "          batch_size=128,\n",
        "         epochs=5)"
      ]
    },
    {
      "cell_type": "code",
      "execution_count": 24,
      "metadata": {
        "id": "ZEAtQ0Wd3NZz"
      },
      "outputs": [],
      "source": [
        "import matplotlib.pyplot as plt"
      ]
    },
    {
      "cell_type": "code",
      "execution_count": 25,
      "metadata": {
        "colab": {
          "base_uri": "https://localhost:8080/",
          "height": 489
        },
        "id": "NWeydA5J0NQ-",
        "outputId": "0af31f63-b70f-494b-d280-be18f367a44d"
      },
      "outputs": [
        {
          "name": "stdout",
          "output_type": "stream",
          "text": [
            "dict_keys(['loss', 'accuracy', 'val_loss', 'val_accuracy'])\n"
          ]
        },
        {
          "data": {
            "image/png": "[encoded data removed]",
            "text/plain": [
              "<Figure size 640x480 with 1 Axes>"
            ]
          },
          "metadata": {},
          "output_type": "display_data"
        }
      ],
      "source": [
        "print(model.history.history.keys())\n",
        "plt.plot(model.history.history['accuracy'])\n",
        "plt.plot(model.history.history['val_accuracy'])\n",
        "plt.title('model acc')\n",
        "plt.ylabel('accuracy')\n",
        "plt.xlabel('epoch')\n",
        "plt.legend(['train', 'val'], loc='upper left')\n",
        "plt.show()"
      ]
    },
    {
      "cell_type": "code",
      "execution_count": 26,
      "metadata": {
        "id": "mxh0_ppUqEG4"
      },
      "outputs": [],
      "source": [
        "from sklearn.metrics import classification_report"
      ]
    },
    {
      "cell_type": "code",
      "execution_count": 27,
      "metadata": {
        "colab": {
          "base_uri": "https://localhost:8080/"
        },
        "id": "GD4XsmvBoUG2",
        "outputId": "a29633bc-f9be-4448-8b2c-8053eaf364a5"
      },
      "outputs": [
        {
          "name": "stdout",
          "output_type": "stream",
          "text": [
            "170/170 [==============================] - 5s 20ms/step\n"
          ]
        }
      ],
      "source": [
        "pred = model.predict(X_test).argmax(2)"
      ]
    },
    {
      "cell_type": "code",
      "execution_count": 28,
      "metadata": {
        "colab": {
          "base_uri": "https://localhost:8080/"
        },
        "id": "facFCSVrlOGX",
        "outputId": "649e3c5e-ade6-4d62-8ac3-1af07ad138c4"
      },
      "outputs": [
        {
          "name": "stdout",
          "output_type": "stream",
          "text": [
            "              precision    recall  f1-score   support\n",
            "\n",
            "         ADJ       0.89      0.70      0.78      5732\n",
            "         ADP       0.93      0.95      0.94      8446\n",
            "         ADV       0.80      0.70      0.74      3788\n",
            "         AUX       0.91      0.96      0.93      4531\n",
            "       CCONJ       0.98      0.98      0.98      2515\n",
            "         DET       0.98      0.97      0.97      7538\n",
            "        INTJ       0.76      0.21      0.33       164\n",
            "        NOUN       0.90      0.80      0.85     15486\n",
            "         NUM       0.93      0.72      0.81      1526\n",
            "        PART       0.90      0.91      0.90      1961\n",
            "        PRON       0.94      0.95      0.94      6383\n",
            "       PROPN       0.63      0.84      0.72      5818\n",
            "       PUNCT       0.83      1.00      0.91     10389\n",
            "       SCONJ       0.75      0.65      0.69      1306\n",
            "         SYM       0.92      0.47      0.63       173\n",
            "        VERB       0.87      0.85      0.86      9031\n",
            "           X       1.00      1.00      1.00   1052173\n",
            "\n",
            "    accuracy                           0.99   1136960\n",
            "   macro avg       0.88      0.80      0.82   1136960\n",
            "weighted avg       0.99      0.99      0.99   1136960\n",
            "\n"
          ]
        }
      ],
      "source": [
        "print(classification_report(y_test.reshape(-1), pred.reshape(-1), labels=list(id2label.keys()),\n",
        "                                                                     target_names=list(id2label.values()),\n",
        "                                                                     zero_division=0))"
      ]
    },
    {
      "cell_type": "code",
      "execution_count": 29,
      "metadata": {
        "id": "mWBLi8Cr4I6J"
      },
      "outputs": [],
      "source": [
        "import re\n",
        "\n",
        "def tokenize(text, word2id):\n",
        "    # токенизирует и переводит в индексы\n",
        "    tokens = re.findall('\\w+|[^\\w\\s]+', text)\n",
        "    ids = [word2id.get(token.lower(), 1) for token in tokens]\n",
        "    return tokens, ids\n",
        "\n",
        "def pred2tags(pred, id2label, length):\n",
        "    # декодирует индексы в части речи\n",
        "    pred = pred.argmax(2)[0, :length]\n",
        "    labels = [id2label[l] for l in pred]\n",
        "    return labels\n",
        "\n",
        "def label_seq(text, word2id, id2label, max_len, model):\n",
        "    tokens, ids = tokenize(text, word2id)\n",
        "    pred = model.predict(keras.preprocessing.sequence.pad_sequences([ids],\n",
        "                                                                       maxlen=max_len,\n",
        "                                                                       padding='post'))\n",
        "    labels = pred2tags(pred, id2label, len(ids))\n",
        "\n",
        "    return list(zip(tokens, labels))"
      ]
    },
    {
      "cell_type": "code",
      "execution_count": 42,
      "metadata": {
        "colab": {
          "base_uri": "https://localhost:8080/"
        },
        "id": "nFWxGYQw4jOj",
        "outputId": "4512210a-b546-46bc-a04e-3515815d9e12"
      },
      "outputs": [
        {
          "name": "stdout",
          "output_type": "stream",
          "text": [
            "1/1 [==============================] - 0s 37ms/step\n"
          ]
        },
        {
          "data": {
            "text/plain": [
              "[('When', 'SCONJ'),\n",
              " ('we', 'PRON'),\n",
              " ('flew', 'VERB'),\n",
              " ('to', 'ADP'),\n",
              " ('the', 'DET'),\n",
              " ('coast', 'NOUN'),\n",
              " (',', 'PUNCT'),\n",
              " ('I', 'PRON'),\n",
              " ('wanted', 'VERB'),\n",
              " ('to', 'PART'),\n",
              " ('water', 'VERB'),\n",
              " ('a', 'DET'),\n",
              " ('book', 'NOUN'),\n",
              " ('.', 'PUNCT')]"
            ]
          },
          "execution_count": 42,
          "metadata": {},
          "output_type": "execute_result"
        }
      ],
      "source": [
        "label_seq(sentence, word2id, id2label, MAX_LEN, model)"
      ]
    },
    {
      "cell_type": "code",
      "execution_count": 41,
      "metadata": {
        "id": "GbFYX9oR6xcV"
      },
      "outputs": [],
      "source": [
        "sentence = \"When we flew to the coast, I wanted to water a book.\""
      ]
    },
    {
      "cell_type": "code",
      "execution_count": 44,
      "metadata": {
        "colab": {
          "base_uri": "https://localhost:8080/"
        },
        "id": "-wR25uoY9e-t",
        "outputId": "3449e5ed-5a44-43b3-861e-83c1c4d74f07"
      },
      "outputs": [
        {
          "name": "stdout",
          "output_type": "stream",
          "text": [
            "1/1 [==============================] - 0s 36ms/step\n"
          ]
        },
        {
          "data": {
            "text/plain": [
              "[('I', 'PRON'),\n",
              " ('was', 'AUX'),\n",
              " ('trying', 'VERB'),\n",
              " ('to', 'PART'),\n",
              " ('book', 'VERB'),\n",
              " ('a', 'DET'),\n",
              " ('hotel', 'NOUN'),\n",
              " ('for', 'ADP'),\n",
              " ('the', 'DET'),\n",
              " ('night', 'NOUN'),\n",
              " ('when', 'SCONJ'),\n",
              " ('the', 'DET'),\n",
              " ('coast', 'NOUN'),\n",
              " ('guard', 'NOUN'),\n",
              " ('appered', 'PUNCT'),\n",
              " ('out', 'ADP'),\n",
              " ('of', 'ADP'),\n",
              " ('water', 'NOUN'),\n",
              " ('.', 'PUNCT')]"
            ]
          },
          "execution_count": 44,
          "metadata": {},
          "output_type": "execute_result"
        }
      ],
      "source": [
        "label_seq(sentence2, word2id, id2label, MAX_LEN, model)"
      ]
    },
    {
      "cell_type": "code",
      "execution_count": 43,
      "metadata": {
        "id": "vwymrG1j9U-K"
      },
      "outputs": [],
      "source": [
        "sentence2 = \"I was trying to book a hotel for the night when the coast guard appered out of water.\""
      ]
    },
    {
      "cell_type": "markdown",
      "metadata": {},
      "source": [
        "Видим, что в предложениях правильно снята омонимия со слов *book* и *water*, остальные части речи также соответствуют действительности. "
      ]
    }
  ],
  "metadata": {
    "accelerator": "GPU",
    "colab": {
      "gpuType": "T4",
      "provenance": []
    },
    "kernelspec": {
      "display_name": "Python 3",
      "name": "python3"
    },
    "language_info": {
      "name": "python"
    }
  },
  "nbformat": 4,
  "nbformat_minor": 0
}
